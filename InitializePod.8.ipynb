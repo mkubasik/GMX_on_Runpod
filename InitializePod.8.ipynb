{
 "cells": [
  {
   "cell_type": "markdown",
   "id": "f6c595d5-d5fd-4089-80b4-fc73031ece2e",
   "metadata": {},
   "source": [
    "# Run the cells of this notebook prepare a Pod to run GROMACS Tutorials\n",
    "\n",
    "Matt Kubasik  \n",
    "1/05/2025"
   ]
  },
  {
   "cell_type": "code",
   "execution_count": 1,
   "id": "5bb0feb2-5015-4548-b606-c85dacd9a971",
   "metadata": {},
   "outputs": [
    {
     "name": "stdout",
     "output_type": "stream",
     "text": [
      "Fri Jun  6 23:32:36 2025       \n",
      "+-----------------------------------------------------------------------------------------+\n",
      "| NVIDIA-SMI 550.54.15              Driver Version: 550.54.15      CUDA Version: 12.4     |\n",
      "|-----------------------------------------+------------------------+----------------------+\n",
      "| GPU  Name                 Persistence-M | Bus-Id          Disp.A | Volatile Uncorr. ECC |\n",
      "| Fan  Temp   Perf          Pwr:Usage/Cap |           Memory-Usage | GPU-Util  Compute M. |\n",
      "|                                         |                        |               MIG M. |\n",
      "|=========================================+========================+======================|\n",
      "|   0  NVIDIA RTX A4000               On  |   00000000:83:00.0 Off |                  Off |\n",
      "| 41%   34C    P8             16W /  140W |       1MiB /  16376MiB |      0%      Default |\n",
      "|                                         |                        |                  N/A |\n",
      "+-----------------------------------------+------------------------+----------------------+\n",
      "                                                                                         \n",
      "+-----------------------------------------------------------------------------------------+\n",
      "| Processes:                                                                              |\n",
      "|  GPU   GI   CI        PID   Type   Process name                              GPU Memory |\n",
      "|        ID   ID                                                               Usage      |\n",
      "|=========================================================================================|\n",
      "|  No running processes found                                                             |\n",
      "+-----------------------------------------------------------------------------------------+\n"
     ]
    }
   ],
   "source": [
    "%%bash\n",
    "nvidia-smi"
   ]
  },
  {
   "cell_type": "markdown",
   "id": "93df0852-2e86-472b-b1f8-a7a09eef7ed3",
   "metadata": {},
   "source": [
    "### Create a folder to contain output of commands that update and initialize the pod"
   ]
  },
  {
   "cell_type": "code",
   "execution_count": 3,
   "id": "09544a9c-1198-446f-8310-3f8207ea0bf4",
   "metadata": {},
   "outputs": [
    {
     "name": "stdout",
     "output_type": "stream",
     "text": [
      "Directory already exists.\n"
     ]
    }
   ],
   "source": [
    "import os\n",
    "try:\n",
    "    os.mkdir(\"initialization\")\n",
    "    print(\"Directory created successfully.\")\n",
    "except FileExistsError:\n",
    "    print(\"Directory already exists.\")"
   ]
  },
  {
   "cell_type": "markdown",
   "id": "6736c1d1-835d-4d2b-80b8-5cdb78b04d10",
   "metadata": {},
   "source": [
    "### Update the computer and add zip"
   ]
  },
  {
   "cell_type": "code",
   "execution_count": null,
   "id": "728be300-7355-4f26-8214-a4d5c8b7e350",
   "metadata": {},
   "outputs": [
    {
     "name": "stdout",
     "output_type": "stream",
     "text": [
      "done.\n",
      "Processing triggers for mailcap (3.70+nmu1ubuntu1) ...\n",
      "/bin/zip\n"
     ]
    }
   ],
   "source": [
    "%%bash\n",
    "cd initialization\n",
    "apt update  &> apt_upgrade.txt &&  echo Y | apt upgrade  &> apt_upgrade.txt\n",
    "tail -n 1 apt_upgrade.txt\n",
    "\n",
    "echo Y | apt install zip &> zip.txt\n",
    "tail -n 1          zip.txt\n",
    "\n",
    "python -m pip install --upgrade pip &> pip.txt\n",
    "which zip\n",
    "cd ..\n"
   ]
  },
  {
   "cell_type": "markdown",
   "id": "c141c62c-5aab-4fc9-b27e-c1f7b7516afe",
   "metadata": {},
   "source": [
    "### Install molecular visualization modules"
   ]
  },
  {
   "cell_type": "code",
   "execution_count": 5,
   "id": "99264688-3004-489b-8237-9f1c458d6a14",
   "metadata": {},
   "outputs": [
    {
     "name": "stdout",
     "output_type": "stream",
     "text": [
      "\u001b[1A\u001b[2KSuccessfully installed cftime-1.6.4.post1 mdtraj-1.10.3 netCDF4-1.7.2 scipy-1.15.3\n",
      "\u001b[33mWARNING: Running pip as the 'root' user can result in broken permissions and conflicting behaviour with the system package manager, possibly rendering your system unusable. It is recommended to use a virtual environment instead: https://pip.pypa.io/warnings/venv. Use the --root-user-action option if you know what you are doing and want to suppress this warning.\u001b[0m\u001b[33m\n",
      "\u001b[0m"
     ]
    }
   ],
   "source": [
    "%%bash\n",
    "cd initialization\n",
    "pip install mdtraj &> mdtraj.txt\n",
    "tail -n 3 mdtraj.txt\n",
    "cd ..\n"
   ]
  },
  {
   "cell_type": "code",
   "execution_count": 6,
   "id": "b26cedf9-ea0d-4cef-9be7-a27f80f6dc6e",
   "metadata": {},
   "outputs": [
    {
     "name": "stdout",
     "output_type": "stream",
     "text": [
      "\u001b[1A\u001b[2KSuccessfully installed jupyterlab-4.4.3 nglview-3.1.4 notebook-7.4.3\n",
      "\u001b[33mWARNING: Running pip as the 'root' user can result in broken permissions and conflicting behaviour with the system package manager, possibly rendering your system unusable. It is recommended to use a virtual environment instead: https://pip.pypa.io/warnings/venv. Use the --root-user-action option if you know what you are doing and want to suppress this warning.\u001b[0m\u001b[33m\n",
      "\u001b[0m"
     ]
    }
   ],
   "source": [
    "%%bash\n",
    "cd initialization\n",
    "pip install nglview  &> nglview.txt\n",
    "tail -n 3 nglview.txt\n",
    "cd .."
   ]
  },
  {
   "cell_type": "markdown",
   "id": "7d1281fa-92aa-4f1a-8885-2d95f019cf70",
   "metadata": {},
   "source": [
    "### Install pandas and matplotlib"
   ]
  },
  {
   "cell_type": "code",
   "execution_count": 7,
   "id": "423b9729-bfbc-410e-942d-749ea2dee08f",
   "metadata": {},
   "outputs": [
    {
     "name": "stdout",
     "output_type": "stream",
     "text": [
      "\u001b[1A\u001b[2KSuccessfully installed contourpy-1.3.2 cycler-0.12.1 fonttools-4.58.2 kiwisolver-1.4.8 matplotlib-3.10.3\n",
      "\u001b[33mWARNING: Running pip as the 'root' user can result in broken permissions and conflicting behaviour with the system package manager, possibly rendering your system unusable. It is recommended to use a virtual environment instead: https://pip.pypa.io/warnings/venv. Use the --root-user-action option if you know what you are doing and want to suppress this warning.\u001b[0m\u001b[33m\n",
      "\u001b[0m"
     ]
    }
   ],
   "source": [
    "%%bash\n",
    "cd initialization\n",
    "pip install pandas &> pandas.txt\n",
    "tail -n 1 pandas.txt\n",
    "pip install matplotlib &> matplotlib.txt\n",
    "tail -n 3 matplotlib.txt\n",
    "cd .."
   ]
  },
  {
   "cell_type": "code",
   "execution_count": null,
   "id": "9082d824",
   "metadata": {},
   "outputs": [],
   "source": []
  },
  {
   "cell_type": "code",
   "execution_count": null,
   "id": "3d9b9e64-bac1-43a0-a582-c8a7248290b9",
   "metadata": {},
   "outputs": [],
   "source": [
    "%%bash \n",
    "wget https://raw.githubusercontent.com/mkubasik/GMX_binaries/main/gmx_GPU_RunPod_2025-0.tar.gz\n",
    "tar xf gmx*.tar.gz"
   ]
  },
  {
   "cell_type": "code",
   "execution_count": 9,
   "id": "d43ef44d-c7b3-4ca2-a099-6473cc2d1938",
   "metadata": {},
   "outputs": [],
   "source": [
    "%%bash\n",
    "mv usr/local/gromacs /usr/local/gromacs\n",
    "rm -r usr\n",
    "rm gmx*.tar.gz"
   ]
  },
  {
   "cell_type": "code",
   "execution_count": 10,
   "id": "fa32b80d-04b8-4818-a147-c1da8ca49be9",
   "metadata": {},
   "outputs": [],
   "source": [
    "# Add the gmx binaries to the system PATH variable\n",
    "os.environ['PATH'] += \":/usr/local/gromacs/bin\"  # Add the gmx binaries to the system PATH variable"
   ]
  },
  {
   "cell_type": "code",
   "execution_count": 11,
   "id": "4d86c133-8be5-4836-8aba-041b9ea07a7b",
   "metadata": {},
   "outputs": [
    {
     "name": "stdout",
     "output_type": "stream",
     "text": [
      "                         :-) GROMACS - gmx, 2025.0 (-:\n",
      "\n",
      "Executable:   /usr/local/gromacs/bin/gmx\n",
      "Data prefix:  /usr/local/gromacs\n",
      "Working dir:  /workspace/GMX_on_Runpod\n",
      "Command line:\n",
      "  gmx --version\n",
      "\n",
      "GROMACS version:     2025.0\n",
      "Precision:           mixed\n",
      "Memory model:        64 bit\n",
      "MPI library:         thread_mpi\n",
      "OpenMP support:      enabled (GMX_OPENMP_MAX_THREADS = 128)\n",
      "GPU support:         CUDA\n",
      "NBNxM GPU setup:     super-cluster 2x2x2 / cluster 8 (cluster-pair splitting on)\n",
      "SIMD instructions:   AVX2_256\n",
      "CPU FFT library:     fftw-3.3.10-sse2-avx-avx2-avx2_128\n",
      "GPU FFT library:     cuFFT\n",
      "Multi-GPU FFT:       none\n",
      "RDTSCP usage:        enabled\n",
      "TNG support:         enabled\n",
      "Hwloc support:       disabled\n",
      "Tracing support:     disabled\n",
      "C compiler:          /usr/bin/cc GNU 11.4.0\n",
      "C compiler flags:    -fexcess-precision=fast -funroll-all-loops -mavx2 -mfma -Wno-missing-field-initializers -O3 -DNDEBUG\n",
      "C++ compiler:        /usr/bin/c++ GNU 11.4.0\n",
      "C++ compiler flags:  -fexcess-precision=fast -funroll-all-loops -mavx2 -mfma -Wno-missing-field-initializers -Wno-cast-function-type-strict SHELL:-fopenmp -O3 -DNDEBUG\n",
      "BLAS library:        Internal\n",
      "LAPACK library:      Internal\n",
      "CUDA compiler:       /usr/local/cuda/bin/nvcc nvcc: NVIDIA (R) Cuda compiler driver;Copyright (c) 2005-2024 NVIDIA Corporation;Built on Thu_Mar_28_02:18:24_PDT_2024;Cuda compilation tools, release 12.4, V12.4.131;Build cuda_12.4.r12.4/compiler.34097967_0\n",
      "CUDA compiler flags: -O3 -DNDEBUG\n",
      "CUDA driver:         12.40\n",
      "CUDA runtime:        12.40\n",
      "\n"
     ]
    }
   ],
   "source": [
    "%%bash\n",
    "gmx --version"
   ]
  },
  {
   "cell_type": "markdown",
   "id": "b86031d1-fef7-47de-a3b4-630f7fd43e23",
   "metadata": {},
   "source": [
    "## [Gromacs Tutorials](https://tutorials.gromacs.org)\n",
    "\n",
    "Links to tutorial content authored by GROMACS develolpers are below.  The linked pages host the tutorial information, (e.g., helpful plain-text verisions of the tutorials) as well as links to the Jupyter notebooks.    \n",
    "    \n",
    "[`Introduction to Molecular Dynamics `](https://tutorials.gromacs.org/md-intro-tutorial.html) \n",
    "[Notebook](https://gitlab.com/gromacs/online-tutorials/md-intro-tutorial/-/archive/main/md-intro-tutorial-main.zip)  \n",
    "doi:10.5281/zenodo.11198375\n",
    "\n",
    "[`Introduction to Membrane-Protein Simulation `](https://tutorials.gromacs.org/membrane-protein.html)\n",
    "[Notebook](https://gitlab.com/gromacs/online-tutorials/membrane-protein/-/archive/main/membrane-protein-main.zip)  \n",
    "doi:10.5281/zenodo.10952993\n",
    "\n",
    "[`Umbrella sampling `](https://tutorials.gromacs.org/umbrella-sampling.html)\n",
    "[Notebook](https://gitlab.com/gromacs/online-tutorials/umbrella-sampling/-/archive/main/umbrella-sampling-main.zip)\n",
    "    \n",
    "[`Free energy of solvation`](https://tutorials.gromacs.org/free-energy-of-solvation.html) \n",
    "[Notebook](https://gitlab.com/gromacs/online-tutorials/free-energy-of-solvation/-/archive/main/free-energy-of-solvation-main.zip)\n",
    "    \n",
    "[`Potential of mean force using AWH method `](https://tutorials.gromacs.org/awh-tutorial.html)\n",
    "[Notebook](https://gitlab.com/gromacs/online-tutorials/awh-tutorial/-/archive/main/awh-tutorial-main.zip)\n",
    "   \n",
    "[`Free energy of solvation using AWH method `](https://tutorials.gromacs.org/awh-free-energy-of-solvation.html) \n",
    "[Notebook](https://gitlab.com/gromacs/online-tutorials/awh-free-energy-of-solvation/-/archive/main/awh-free-energy-of-solvation-main.zip)\n",
    "   \n",
    "[`Density-fit simulation ` ](https://tutorials.gromacs.org/density-fit-simulation.html)\n",
    "[Notebook](https://gitlab.com/gromacs/online-tutorials/density-fit-simulation/-/archive/main/density-fit-simulation-main.zip)\n"
   ]
  },
  {
   "cell_type": "markdown",
   "id": "e0fd892a-615d-4f4f-b0eb-0f14a689996c",
   "metadata": {},
   "source": [
    "### Obtain URL and password for this pod"
   ]
  },
  {
   "cell_type": "code",
   "execution_count": 12,
   "id": "c6f54a7e-43d5-4244-a663-6e98c3b66cf4",
   "metadata": {},
   "outputs": [
    {
     "name": "stdout",
     "output_type": "stream",
     "text": [
      "URL =  https://ipvpqac4lsbhzk-6441112a-8888.proxy.runpod.net\n",
      "Password =  w36l6ooy8izdnkgxcucl\n"
     ]
    }
   ],
   "source": [
    "URL = \"https://\" + os.environ[\"RUNPOD_POD_HOSTNAME\"] + \"-8888.proxy.runpod.net\"\n",
    "password = os.environ[\"JUPYTER_PASSWORD\"]\n",
    "print(\"URL = \", URL)\n",
    "print(\"Password = \", password)"
   ]
  },
  {
   "attachments": {},
   "cell_type": "markdown",
   "id": "015408fa-79f6-47d7-a159-df605d72431d",
   "metadata": {},
   "source": [
    "###  After you have copied the password and entered it at the URL, you have a functioning RunPod instance.\n",
    "\n"
   ]
  },
  {
   "cell_type": "code",
   "execution_count": 17,
   "id": "b85408ba-70e9-4c66-8273-3c5e9fa38d4d",
   "metadata": {},
   "outputs": [
    {
     "name": "stdout",
     "output_type": "stream",
     "text": [
      "URL =  https://mrefv5xdv6fcav-64410b18-8888.proxy.runpod.net\n",
      "Password =  ra2jbrebg21dzpzb79ik\n"
     ]
    }
   ],
   "source": [
    "print(\"URL = \", URL)\n",
    "print(\"Password = \", password)"
   ]
  },
  {
   "cell_type": "markdown",
   "id": "542dbecf-635e-4200-9181-44f941dc4fea",
   "metadata": {},
   "source": [
    "## IMPORTANT:  \n",
    "\n",
    "This notebook has prepared your Pod to run Gromacs.  To run Jupyter-notebook scaffolded Gromacs exercises on RunPod, available from many authors, you MUST add and execute the following code. This line tells the operating system where to find the gmx executables.\n",
    "\n",
    "**When launching Jupyter notebooks on a RunPod Pod, You MUST place the following commands in a cell near the top of the authored notebook, or the gmx command will not execute.**\n",
    "```\n",
    "import os\n",
    "os.environ['PATH'] += \":/usr/local/gromacs/bin\"\n",
    "\n",
    "```"
   ]
  },
  {
   "cell_type": "markdown",
   "id": "8b6dec4b",
   "metadata": {},
   "source": []
  }
 ],
 "metadata": {
  "kernelspec": {
   "display_name": "Python 3",
   "language": "python",
   "name": "python3"
  },
  "language_info": {
   "codemirror_mode": {
    "name": "ipython",
    "version": 3
   },
   "file_extension": ".py",
   "mimetype": "text/x-python",
   "name": "python",
   "nbconvert_exporter": "python",
   "pygments_lexer": "ipython3",
   "version": "3.11.10"
  }
 },
 "nbformat": 4,
 "nbformat_minor": 5
}
